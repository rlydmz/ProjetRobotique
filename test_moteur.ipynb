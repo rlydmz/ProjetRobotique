{
 "cells": [
  {
   "cell_type": "code",
   "execution_count": 1,
   "metadata": {},
   "outputs": [],
   "source": [
    "import pypot.dynamixel as pd"
   ]
  },
  {
   "cell_type": "code",
   "execution_count": 3,
   "metadata": {
    "scrolled": false
   },
   "outputs": [
    {
     "name": "stdout",
     "output_type": "stream",
     "text": [
      "Found ports ['/dev/ttyACM0']\n",
      "Connecting on the first available port: /dev/ttyACM0\n"
     ]
    }
   ],
   "source": [
    "ports = pd.get_available_ports()\n",
    "if not ports:\n",
    "    exit('No port')\n",
    "print (\"Found ports\", ports)\n",
    "\n",
    "print('Connecting on the first available port:', ports[0])\n",
    "dxl_io = pd.DxlIO(ports[0])"
   ]
  },
  {
   "cell_type": "code",
   "execution_count": 9,
   "metadata": {},
   "outputs": [],
   "source": [
    "dxl_io.set_wheel_mode([1])\n",
    "dxl_io.set_moving_speed({1:20})"
   ]
  },
  {
   "cell_type": "code",
   "execution_count": 10,
   "metadata": {},
   "outputs": [
    {
     "data": {
      "text/plain": [
       "[1]"
      ]
     },
     "execution_count": 10,
     "metadata": {},
     "output_type": "execute_result"
    }
   ],
   "source": [
    "dxl_io.scan(range(10))"
   ]
  }
 ],
 "metadata": {
  "kernelspec": {
   "display_name": "FirstBot",
   "language": "python",
   "name": "robot_env"
  },
  "language_info": {
   "codemirror_mode": {
    "name": "ipython",
    "version": 3
   },
   "file_extension": ".py",
   "mimetype": "text/x-python",
   "name": "python",
   "nbconvert_exporter": "python",
   "pygments_lexer": "ipython3",
   "version": "3.7.0"
  }
 },
 "nbformat": 4,
 "nbformat_minor": 2
}
